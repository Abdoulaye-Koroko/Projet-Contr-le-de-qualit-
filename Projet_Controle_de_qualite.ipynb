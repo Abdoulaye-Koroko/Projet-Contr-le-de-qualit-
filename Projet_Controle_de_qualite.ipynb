{
 "cells": [
  {
   "cell_type": "markdown",
   "metadata": {},
   "source": [
    "# KOROKO Abdoulaye ISUP/Sorbonne Université\n"
   ]
  },
  {
   "cell_type": "markdown",
   "metadata": {},
   "source": [
    "# Importation des données"
   ]
  },
  {
   "cell_type": "code",
   "execution_count": 77,
   "metadata": {},
   "outputs": [
    {
     "data": {
      "text/html": [
       "<table>\n",
       "<thead><tr><th scope=col>X</th><th scope=col>Date</th><th scope=col>V2</th><th scope=col>V3</th><th scope=col>V4</th><th scope=col>V5</th><th scope=col>V6</th><th scope=col>V7</th><th scope=col>V8</th><th scope=col>V9</th><th scope=col>...</th><th scope=col>V99</th><th scope=col>V100</th><th scope=col>V101</th><th scope=col>V102</th><th scope=col>V103</th><th scope=col>V104</th><th scope=col>V105</th><th scope=col>V106</th><th scope=col>V107</th><th scope=col>V108</th></tr></thead>\n",
       "<tbody>\n",
       "\t<tr><td>1         </td><td>11884.585 </td><td>8747.270  </td><td>8979.165  </td><td>13134.79  </td><td>6744.153  </td><td>  332.9116</td><td>2.041232  </td><td>2.526378  </td><td>1.060004  </td><td>...       </td><td> 7.716915 </td><td>8.026644  </td><td> 8.357117 </td><td>6.549795  </td><td> 7.925176 </td><td> 7.223117 </td><td>11.690900 </td><td> 6.790898 </td><td>1.439105  </td><td>3.087363  </td></tr>\n",
       "\t<tr><td>2         </td><td> 3967.990 </td><td>8917.627  </td><td>8648.866  </td><td>13196.79  </td><td>7006.460  </td><td> 6553.8017</td><td>1.989004  </td><td>2.505414  </td><td>2.569598  </td><td>...       </td><td> 6.251310 </td><td>5.809821  </td><td>11.574662 </td><td>7.666878  </td><td>11.133945 </td><td>11.453752 </td><td>12.222374 </td><td> 7.723343 </td><td>2.263309  </td><td>1.556338  </td></tr>\n",
       "\t<tr><td>3         </td><td> 2340.014 </td><td>8542.631  </td><td>9095.648  </td><td>13130.64  </td><td>6217.429  </td><td> 5826.7149</td><td>2.182383  </td><td>2.076135  </td><td>1.431127  </td><td>...       </td><td> 7.850298 </td><td>7.528313  </td><td> 7.928808 </td><td>5.418660  </td><td>10.758805 </td><td>11.026778 </td><td> 8.963434 </td><td> 6.009683 </td><td>1.144087  </td><td>2.805724  </td></tr>\n",
       "\t<tr><td>4         </td><td> 9531.647 </td><td>8771.683  </td><td>8852.317  </td><td>13159.67  </td><td>5304.473  </td><td> 1370.2957</td><td>2.013329  </td><td>2.273124  </td><td>1.586606  </td><td>...       </td><td>12.348011 </td><td>7.568170  </td><td>12.429116 </td><td>5.717503  </td><td>10.673237 </td><td> 9.090007 </td><td> 4.577667 </td><td> 8.984262 </td><td>1.625382  </td><td>1.137140  </td></tr>\n",
       "\t<tr><td>5         </td><td> 3744.127 </td><td>8588.406  </td><td>8890.939  </td><td>13175.67  </td><td>7934.286  </td><td>10050.1822</td><td>1.680108  </td><td>2.053629  </td><td>2.491755  </td><td>...       </td><td> 6.717535 </td><td>6.395391  </td><td> 6.692789 </td><td>7.533511  </td><td> 9.097080 </td><td> 5.808258 </td><td> 9.959317 </td><td> 7.830020 </td><td>1.568269  </td><td>1.726131  </td></tr>\n",
       "\t<tr><td>6         </td><td>11094.191 </td><td>9024.266  </td><td>8768.340  </td><td>13148.79  </td><td>8417.490  </td><td> 7970.3762</td><td>1.806168  </td><td>2.593747  </td><td>2.189344  </td><td>...       </td><td> 7.253159 </td><td>8.743518  </td><td> 7.510613 </td><td>4.201367  </td><td> 6.965259 </td><td> 8.566168 </td><td> 7.183211 </td><td>11.294895 </td><td>2.303840  </td><td>2.769589  </td></tr>\n",
       "</tbody>\n",
       "</table>\n"
      ],
      "text/latex": [
       "\\begin{tabular}{r|lllllllllllllllllllllllllllllllllllllllllllllllllllllllllllllllllllllllllllllllllllllllllllllllllllllllllllll}\n",
       " X & Date & V2 & V3 & V4 & V5 & V6 & V7 & V8 & V9 & ... & V99 & V100 & V101 & V102 & V103 & V104 & V105 & V106 & V107 & V108\\\\\n",
       "\\hline\n",
       "\t 1          & 11884.585  & 8747.270   & 8979.165   & 13134.79   & 6744.153   &   332.9116 & 2.041232   & 2.526378   & 1.060004   & ...        &  7.716915  & 8.026644   &  8.357117  & 6.549795   &  7.925176  &  7.223117  & 11.690900  &  6.790898  & 1.439105   & 3.087363  \\\\\n",
       "\t 2          &  3967.990  & 8917.627   & 8648.866   & 13196.79   & 7006.460   &  6553.8017 & 1.989004   & 2.505414   & 2.569598   & ...        &  6.251310  & 5.809821   & 11.574662  & 7.666878   & 11.133945  & 11.453752  & 12.222374  &  7.723343  & 2.263309   & 1.556338  \\\\\n",
       "\t 3          &  2340.014  & 8542.631   & 9095.648   & 13130.64   & 6217.429   &  5826.7149 & 2.182383   & 2.076135   & 1.431127   & ...        &  7.850298  & 7.528313   &  7.928808  & 5.418660   & 10.758805  & 11.026778  &  8.963434  &  6.009683  & 1.144087   & 2.805724  \\\\\n",
       "\t 4          &  9531.647  & 8771.683   & 8852.317   & 13159.67   & 5304.473   &  1370.2957 & 2.013329   & 2.273124   & 1.586606   & ...        & 12.348011  & 7.568170   & 12.429116  & 5.717503   & 10.673237  &  9.090007  &  4.577667  &  8.984262  & 1.625382   & 1.137140  \\\\\n",
       "\t 5          &  3744.127  & 8588.406   & 8890.939   & 13175.67   & 7934.286   & 10050.1822 & 1.680108   & 2.053629   & 2.491755   & ...        &  6.717535  & 6.395391   &  6.692789  & 7.533511   &  9.097080  &  5.808258  &  9.959317  &  7.830020  & 1.568269   & 1.726131  \\\\\n",
       "\t 6          & 11094.191  & 9024.266   & 8768.340   & 13148.79   & 8417.490   &  7970.3762 & 1.806168   & 2.593747   & 2.189344   & ...        &  7.253159  & 8.743518   &  7.510613  & 4.201367   &  6.965259  &  8.566168  &  7.183211  & 11.294895  & 2.303840   & 2.769589  \\\\\n",
       "\\end{tabular}\n"
      ],
      "text/markdown": [
       "\n",
       "| X | Date | V2 | V3 | V4 | V5 | V6 | V7 | V8 | V9 | ... | V99 | V100 | V101 | V102 | V103 | V104 | V105 | V106 | V107 | V108 |\n",
       "|---|---|---|---|---|---|---|---|---|---|---|---|---|---|---|---|---|---|---|---|---|\n",
       "| 1          | 11884.585  | 8747.270   | 8979.165   | 13134.79   | 6744.153   |   332.9116 | 2.041232   | 2.526378   | 1.060004   | ...        |  7.716915  | 8.026644   |  8.357117  | 6.549795   |  7.925176  |  7.223117  | 11.690900  |  6.790898  | 1.439105   | 3.087363   |\n",
       "| 2          |  3967.990  | 8917.627   | 8648.866   | 13196.79   | 7006.460   |  6553.8017 | 1.989004   | 2.505414   | 2.569598   | ...        |  6.251310  | 5.809821   | 11.574662  | 7.666878   | 11.133945  | 11.453752  | 12.222374  |  7.723343  | 2.263309   | 1.556338   |\n",
       "| 3          |  2340.014  | 8542.631   | 9095.648   | 13130.64   | 6217.429   |  5826.7149 | 2.182383   | 2.076135   | 1.431127   | ...        |  7.850298  | 7.528313   |  7.928808  | 5.418660   | 10.758805  | 11.026778  |  8.963434  |  6.009683  | 1.144087   | 2.805724   |\n",
       "| 4          |  9531.647  | 8771.683   | 8852.317   | 13159.67   | 5304.473   |  1370.2957 | 2.013329   | 2.273124   | 1.586606   | ...        | 12.348011  | 7.568170   | 12.429116  | 5.717503   | 10.673237  |  9.090007  |  4.577667  |  8.984262  | 1.625382   | 1.137140   |\n",
       "| 5          |  3744.127  | 8588.406   | 8890.939   | 13175.67   | 7934.286   | 10050.1822 | 1.680108   | 2.053629   | 2.491755   | ...        |  6.717535  | 6.395391   |  6.692789  | 7.533511   |  9.097080  |  5.808258  |  9.959317  |  7.830020  | 1.568269   | 1.726131   |\n",
       "| 6          | 11094.191  | 9024.266   | 8768.340   | 13148.79   | 8417.490   |  7970.3762 | 1.806168   | 2.593747   | 2.189344   | ...        |  7.253159  | 8.743518   |  7.510613  | 4.201367   |  6.965259  |  8.566168  |  7.183211  | 11.294895  | 2.303840   | 2.769589   |\n",
       "\n"
      ],
      "text/plain": [
       "  X Date      V2       V3       V4       V5       V6         V7       V8      \n",
       "1 1 11884.585 8747.270 8979.165 13134.79 6744.153   332.9116 2.041232 2.526378\n",
       "2 2  3967.990 8917.627 8648.866 13196.79 7006.460  6553.8017 1.989004 2.505414\n",
       "3 3  2340.014 8542.631 9095.648 13130.64 6217.429  5826.7149 2.182383 2.076135\n",
       "4 4  9531.647 8771.683 8852.317 13159.67 5304.473  1370.2957 2.013329 2.273124\n",
       "5 5  3744.127 8588.406 8890.939 13175.67 7934.286 10050.1822 1.680108 2.053629\n",
       "6 6 11094.191 9024.266 8768.340 13148.79 8417.490  7970.3762 1.806168 2.593747\n",
       "  V9       ... V99       V100     V101      V102     V103      V104     \n",
       "1 1.060004 ...  7.716915 8.026644  8.357117 6.549795  7.925176  7.223117\n",
       "2 2.569598 ...  6.251310 5.809821 11.574662 7.666878 11.133945 11.453752\n",
       "3 1.431127 ...  7.850298 7.528313  7.928808 5.418660 10.758805 11.026778\n",
       "4 1.586606 ... 12.348011 7.568170 12.429116 5.717503 10.673237  9.090007\n",
       "5 2.491755 ...  6.717535 6.395391  6.692789 7.533511  9.097080  5.808258\n",
       "6 2.189344 ...  7.253159 8.743518  7.510613 4.201367  6.965259  8.566168\n",
       "  V105      V106      V107     V108    \n",
       "1 11.690900  6.790898 1.439105 3.087363\n",
       "2 12.222374  7.723343 2.263309 1.556338\n",
       "3  8.963434  6.009683 1.144087 2.805724\n",
       "4  4.577667  8.984262 1.625382 1.137140\n",
       "5  9.959317  7.830020 1.568269 1.726131\n",
       "6  7.183211 11.294895 2.303840 2.769589"
      ]
     },
     "metadata": {},
     "output_type": "display_data"
    }
   ],
   "source": [
    "data<- read.csv(\"Qualite-KOROKO.csv\",header = T)\n",
    "head(data)"
   ]
  },
  {
   "cell_type": "code",
   "execution_count": 78,
   "metadata": {},
   "outputs": [
    {
     "data": {
      "text/html": [
       "109"
      ],
      "text/latex": [
       "109"
      ],
      "text/markdown": [
       "109"
      ],
      "text/plain": [
       "[1] 109"
      ]
     },
     "metadata": {},
     "output_type": "display_data"
    }
   ],
   "source": [
    "columns<-names(data)\n",
    "length(columns)"
   ]
  },
  {
   "cell_type": "markdown",
   "metadata": {},
   "source": [
    "# 1-) Loi des données pour les colonnes 1 à 6"
   ]
  },
  {
   "cell_type": "markdown",
   "metadata": {},
   "source": [
    "# a-) Visualisation de la distribution graphique  de chacune des 6 colonnes"
   ]
  },
  {
   "cell_type": "code",
   "execution_count": 79,
   "metadata": {},
   "outputs": [
    {
     "data": {
      "image/png": "[encoded data removed]",
      "text/plain": [
       "Plot with title \"V6\""
      ]
     },
     "metadata": {},
     "output_type": "display_data"
    }
   ],
   "source": [
    "Date=data$Date\n",
    "V2=data$V2\n",
    "V3=data$V3\n",
    "V4=data$V4\n",
    "V5=data$V5\n",
    "V6=data$V6\n",
    "par(mfrow=c(3,2))\n",
    "hist(Date,probability=T,main=\"Date\",col=\"blue\")\n",
    "hist(V2,probability=T,main=\"V2\",col=\"blue\")\n",
    "hist(V3,probability=T,main=\"V3\",col=\"blue\")\n",
    "hist(V4,probability=T,main=\"V4\",col=\"blue\")\n",
    "hist(V5,probability=T,main=\"V5\",col=\"blue\")\n",
    "hist(V6,probability=T,main=\"V6\",col=\"blue\")\n"
   ]
  },
  {
   "cell_type": "markdown",
   "metadata": {},
   "source": [
    "La visualisation nous permet d'avoir une idée de la possible loi de chacune des colonnes. Dans la suite je déterminerai précisement ces lois à travers les tests graphiques et théoriques d'adéquation. J'implémenterai moi même les tests de Kolmogorov-Sirnov et d'Anderson-Darling et ensuite comparerai les résultas par rapport aux résultats des tests déja existants dans R."
   ]
  },
  {
   "cell_type": "markdown",
   "metadata": {},
   "source": [
    "# Le test d'adéquation de Kolmogorov-Smirnov  \n",
    "Soit $X=(X_1,X_2,...,X_n)$ un échantillon de loi inconnu P continue par rapport à la mésure de Lebesgue et de fonction de répartition $F$. Soit $F_0$ la fonction de répartion d'une loi connue, continue sur $\\mathbb{R}$.  \n",
    "On souhaite tester : $H_0:F=F_0$ vs $H_1:F\\ne F_0$  \n",
    "On considère la statistique de test $T(X)=n^{1/2}sup_{t\\in \\mathbb{R}}|F_n(t)-F_0(t)|$ avec $F_n(t)=\\frac{1}{n}\\sum_{i=1}^{n}\\mathbb{1}_{\\{X_i\\le t\\}}$ la fonction de répartition empirique associée à l'échantillon $X=(X_1,...,X_n)$. On montre que $T(X)=n^{1/2}max_{1\\le k\\le n}(max\\{\\frac{k}{n}-F_0(X_{(k)}),F_0(X_{(k)})- \\frac{k-1}{n} \\})$ avec $X_{(1)}\\le X_{(2)}\\le ....\\le X_{(n)}$ la statistique d'ordre associé à l'échantilon X.  \n",
    "La zone de rejet est donnée par $\\{T(X)\\ge c_{\\alpha} \\}$ où $d_{\\alpha}$ est le quantile d'orde $1-\\alpha$ de la loi de $L_{KS}(n)=n^{1/2}sup_{x \\in [0;1]}|\\frac{1}{n}\\sum_{i=1}^{n}\\mathbb{1}_{(U_i\\le x)}-x|$ avec $U_1,...,U_n$ iid ~ $\\mathbb{U}([0;1])$. On montre que $d_{\\alpha}=\\sqrt{\\frac{-log(\\alpha /2)}{2}}$ et la p-value vaut $2e^{-2(T(X))^2}$\n"
   ]
  },
  {
   "cell_type": "code",
   "execution_count": 80,
   "metadata": {},
   "outputs": [],
   "source": [
    "Kolmogorov_Smirnov<-function(data,alpha=0.05,cible=\"normal\"){\n",
    "    n<-length(data)\n",
    "    sorted_data=sort(data)\n",
    "    T=c()\n",
    "    if(cible==\"normal\"){\n",
    "        for(k in 1:n){\n",
    "            T=c(T,max((k/n)-pnorm(sorted_data[k],mean(data),sd(data)),\n",
    "                pnorm(sorted_data[k],mean(data),sd(data))-((k-1)/n)))\n",
    "    }\n",
    "        \n",
    "    }\n",
    "    if(cible==\"exponential\"){\n",
    "        for(k in 1:n){\n",
    "            T=c(T,max((k/n)-pexp(sorted_data[k],rate=1/mean(data)),\n",
    "                pexp(sorted_data[k],rate=1/mean(data))-((k-1)/n)))\n",
    "    }\n",
    "        \n",
    "    }\n",
    "    if(cible==\"gamma\"){\n",
    "        a=(mean(data))^(2)/var(data)\n",
    "        b=mean(data)/var(data)\n",
    "        for(k in 1:n){\n",
    "            T=c(T,max((k/n)-pgamma(sorted_data[k],a,b),\n",
    "                pgamma(sorted_data[k],a,b)-((k-1)/n)))\n",
    "    }\n",
    "        \n",
    "    }\n",
    "    if(cible==\"weibull\"){\n",
    "        #install.packages(\"weibullness\") # For estimation of weibull parameters\n",
    "        library(weibullness) \n",
    "        parameters=weibull.mle(data, threshold=0)\n",
    "        shape=parameters$shape\n",
    "        scale=parameters$scale\n",
    "        for(k in 1:n){\n",
    "            T=c(T,max((k/n)-pweibull(sorted_data[k],shape,scale),\n",
    "                      pweibull(sorted_data[k],shape,scale)-((k-1)/n)))\n",
    "    }\n",
    "        \n",
    "    }\n",
    "    \n",
    "    D=sqrt(n)*max(T)\n",
    "    p_value=2*exp(-2*D^2)\n",
    "    d_alpha=sqrt(-log(alpha/2))/2\n",
    "    result=list(statistic=D/sqrt(n),p_value=p_value,d_alpha=d_alpha/sqrt(n))\n",
    "    return (result)\n",
    "    \n",
    "}"
   ]
  },
  {
   "cell_type": "code",
   "execution_count": 81,
   "metadata": {},
   "outputs": [
    {
     "data": {
      "text/html": [
       "<dl>\n",
       "\t<dt>$statistic</dt>\n",
       "\t\t<dd>0.0218053411231303</dd>\n",
       "\t<dt>$p_value</dt>\n",
       "\t\t<dd>0.772750831122209</dd>\n",
       "\t<dt>$d_alpha</dt>\n",
       "\t\t<dd>0.0303680730954153</dd>\n",
       "</dl>\n"
      ],
      "text/latex": [
       "\\begin{description}\n",
       "\\item[\\$statistic] 0.0218053411231303\n",
       "\\item[\\$p\\_value] 0.772750831122209\n",
       "\\item[\\$d\\_alpha] 0.0303680730954153\n",
       "\\end{description}\n"
      ],
      "text/markdown": [
       "$statistic\n",
       ":   0.0218053411231303\n",
       "$p_value\n",
       ":   0.772750831122209\n",
       "$d_alpha\n",
       ":   0.0303680730954153\n",
       "\n",
       "\n"
      ],
      "text/plain": [
       "$statistic\n",
       "[1] 0.02180534\n",
       "\n",
       "$p_value\n",
       "[1] 0.7727508\n",
       "\n",
       "$d_alpha\n",
       "[1] 0.03036807\n"
      ]
     },
     "metadata": {},
     "output_type": "display_data"
    }
   ],
   "source": [
    "Kolmogorov_Smirnov(Date,alpha=0.05,cible=\"weibull\")"
   ]
  },
  {
   "cell_type": "markdown",
   "metadata": {},
   "source": [
    "# Le test de normalité d'Anderson-Darling  \n",
    "Le test d’Anderson-Darling est une approche non paramétrique permettant de tester si une variable continue X suit une loi normale. Soit $X=(X_1,X_2,...,X_n)$ un échantillon de loi inconnue P continue par rapport à la mésure de Lebesgue et de fonction de répartition $F$. Soit $F_0$ et $f_0$ les fonctions de répartion et de densité d'une loi normale $\\mathbf{N}(\\mu,\\sigma^2)$.Si $\\mu$ et $\\sigma^2$ sont incounnus, alors ils sont estimés à travers les données.\n",
    "On souhaite tester : $H_0:F=F_0$ vs $H_1:F\\ne F_0$   \n",
    "On utilise la statistique $A_{n}^{0}(X)=n\\int_{\\mathbb{R}} (F_n(t)-F_0(t))^2 \\frac{f_0(t)}{F_0(t)(1-F_0(t))}dt=-n-\\sum_{i=1}^{n}\\frac{2i-1}{n}[ln(F_0(X_{(i)}))+ln(1-F_0(X_{n+1-i}))]$  \n",
    "La fonction test est definie par $\\phi(x)=\\mathbb{1}_{A_{n}^{0}(x)\\ge s}$. La valeur\n",
    "critique s est à lire dans les tables d' Anderson-Darling.\n",
    "Afin de déterminer la p-valeur associée à la statistique de test $A_{n}^{0}$ il faut appliquer une transformation $A^*=(1+\\frac{0.75}{n} +\\frac{2.25}{n^2})A_{n}^{0}$. L’une des façon de calculer la p-valeur associée à $A ^*$ est l’algorithme suivant:  \n",
    "![Kitten](p_value_Anderson.PNG \"Fig \")   \n",
    "\n",
    "**Source pour la méthode de calcul des p-value:** https://lemakistatheux.wordpress.com/2013/08/02/le-test-danderson-darling/\n",
    "\n"
   ]
  },
  {
   "cell_type": "code",
   "execution_count": 82,
   "metadata": {},
   "outputs": [],
   "source": [
    "Anderson_Darling<-function(data,alpha=0.05){\n",
    "    n<-length(data)\n",
    "    mu=mean(data)\n",
    "    sigma=sd(data)\n",
    "    X=sort(data)\n",
    "    A=0\n",
    "    for(i in 1:n){\n",
    "        A=A+((2*i-1)/n)*(log(pnorm(X[i],mu,sigma))+log(1-pnorm(X[n+1-i],mu,sigma)))\n",
    "    }\n",
    "    A=-n-A\n",
    "    A_s=(1+(0.75/n)+(2.25/n^2))*A\n",
    "    if(A_s<0.2){\n",
    "        p_value=1-exp(-13.436+101.14*A_s-223.73*A_s^2)\n",
    "    }\n",
    "    if(A_s>=0.2 && A_s<0.34){\n",
    "        p_value=1-exp(-8.318+42.796*A_s-59.936*A_s^2)\n",
    "    }\n",
    "    if(A_s>=0.34 && A_s<0.6){\n",
    "        p_value=exp(0.9177-4.279*A_s-1.38*A_s^2)\n",
    "    }\n",
    "    if(A_s>=0.6 && A_s<10){\n",
    "        p_value=exp(1.2937-5.709*A_s+0.0186*A_s^2)\n",
    "    }\n",
    "    if(A_s>=10){\n",
    "        p_value=10^(-4)\n",
    "    }\n",
    "    result<-list(statistic=A,p_value=p_value)\n",
    "    return(result)\n",
    "}"
   ]
  },
  {
   "cell_type": "code",
   "execution_count": 83,
   "metadata": {},
   "outputs": [
    {
     "data": {
      "text/html": [
       "<dl>\n",
       "\t<dt>$statistic</dt>\n",
       "\t\t<dd>0.357612611300397</dd>\n",
       "\t<dt>$p_value</dt>\n",
       "\t\t<dd>0.453652019919464</dd>\n",
       "</dl>\n"
      ],
      "text/latex": [
       "\\begin{description}\n",
       "\\item[\\$statistic] 0.357612611300397\n",
       "\\item[\\$p\\_value] 0.453652019919464\n",
       "\\end{description}\n"
      ],
      "text/markdown": [
       "$statistic\n",
       ":   0.357612611300397\n",
       "$p_value\n",
       ":   0.453652019919464\n",
       "\n",
       "\n"
      ],
      "text/plain": [
       "$statistic\n",
       "[1] 0.3576126\n",
       "\n",
       "$p_value\n",
       "[1] 0.453652\n"
      ]
     },
     "metadata": {},
     "output_type": "display_data"
    }
   ],
   "source": [
    "Anderson_Darling(log(V5),alpha=0.05)"
   ]
  },
  {
   "cell_type": "markdown",
   "metadata": {},
   "source": [
    "# b) Loi de la colonne Date"
   ]
  },
  {
   "cell_type": "code",
   "execution_count": 84,
   "metadata": {},
   "outputs": [
    {
     "name": "stdout",
     "output_type": "stream",
     "text": [
      "[1] \"test de Kolmogorov existant dans R:\"\n",
      "\n",
      "\tOne-sample Kolmogorov-Smirnov test\n",
      "\n",
      "data:  Date\n",
      "D = 0.021805, p-value = 0.7286\n",
      "alternative hypothesis: two-sided\n",
      "\n",
      "[1] \"Mon implémentation de Kolmogorov:\"\n",
      "$statistic\n",
      "[1] 0.02180534\n",
      "\n",
      "$p_value\n",
      "[1] 0.7727508\n",
      "\n",
      "$d_alpha\n",
      "[1] 0.03036807\n",
      "\n"
     ]
    },
    {
     "data": {
      "image/png": "[encoded data removed]",
      "text/plain": [
       "Plot with title \"Test d'adéquation loi Weibull\""
      ]
     },
     "metadata": {},
     "output_type": "display_data"
    }
   ],
   "source": [
    "Date=data$Date\n",
    "library(weibullness) \n",
    "parameters=weibull.mle(Date, threshold=0)\n",
    "shape=parameters$shape\n",
    "scale=parameters$scale\n",
    "par(mfrow=c(1,2))\n",
    "require(graphics)\n",
    "#qqplot\n",
    "dist= qweibull(ppoints(length(Date)), shape=shape,scale=scale)\n",
    "qqplot(dist, Date, xlab = 'Theoretical Quantiles', ylab = 'Empirical Quantiles',\n",
    "       main = 'Q-Q plot Weibull')\n",
    "qqline(Date, distribution = function(p) qweibull(p, shape=shape,scale=scale), col = 2)\n",
    "#Superposition de l'histogramme et de la densité de loi de Weibull\n",
    "hist(Date,probability=T,col=\"blue\",breaks=25,main=\"Test d'adéquation loi Weibull\")\n",
    "curve(dweibull(x,shape,scale),col=\"red\",add=T)\n",
    "ks<-ks.test(Date,\"pweibull\",shape=shape,scale=scale)\n",
    "print(\"test de Kolmogorov existant dans R:\")\n",
    "print(ks)\n",
    "my_test=Kolmogorov_Smirnov(Date,alpha=0.05,cible=\"weibull\")\n",
    "print(\"Mon implémentation de Kolmogorov:\")\n",
    "print(my_test)\n",
    "       "
   ]
  },
  {
   "cell_type": "markdown",
   "metadata": {},
   "source": [
    "Grace aux tests graphiques et au test de Kolomogorov-Sirnov, l'on peut conclure que les données de la colonne Date suivent une loi de Weibull de paramètres estimés à travers les données. On rappelle qu'une variable aléatoire suit une loi de Weibull de paramètre $a$ et $b$ si sa densité est $f(x)=\\frac{a}{b}(\\frac{x}{b})^{a-1}e^{-(\\frac{x}{b})^a}\\mathbb{1}_{x\\ge0}$. J'ai utilisé le package de R **weibullness** pour l'estimation de a et b. Par ailleurs, Gumbel a proposé une estimation des paramètres a et b à travers la demarche suivante. Soit $X=(X_1,...,X_n)$ un n-échantillon iid de loi de Weibull, alors des estimateurs de a et b sont:  \n",
    "$\\hat{a}=\\frac{\\pi}{\\sqrt{6}}\\sigma(log(X))$ et $\\hat{b}=exp(\\frac{0.5772}{\\hat{a}}+\\bar{log(X)}$ où $\\sigma$ désigne l'application qui à une donnée X associe son écart-type."
   ]
  },
  {
   "cell_type": "markdown",
   "metadata": {},
   "source": [
    "# c) Loi de la colonne V2"
   ]
  },
  {
   "cell_type": "code",
   "execution_count": 85,
   "metadata": {},
   "outputs": [
    {
     "name": "stdout",
     "output_type": "stream",
     "text": [
      "[1] \"tests existant dans R:\"\n",
      "\n",
      "\tShapiro-Wilk normality test\n",
      "\n",
      "data:  V2\n",
      "W = 0.99888, p-value = 0.806\n",
      "\n",
      "\n",
      "\tOne-sample Kolmogorov-Smirnov test\n",
      "\n",
      "data:  V2\n",
      "D = 0.015742, p-value = 0.9653\n",
      "alternative hypothesis: two-sided\n",
      "\n",
      "\n",
      "\tAnderson-Darling normality test\n",
      "\n",
      "data:  V2\n",
      "A = 0.24979, p-value = 0.7447\n",
      "\n",
      "[1] \"Mes tests implémentés:\"\n",
      "[1] \"Test d'Anderson Darling\"\n",
      "$statistic\n",
      "[1] 0.249788\n",
      "\n",
      "$p_value\n",
      "[1] 0.7446983\n",
      "\n",
      "[1] \"Test de Kolmogorov-Smirnov\"\n",
      "$statistic\n",
      "[1] 0.01574239\n",
      "\n",
      "$p_value\n",
      "[1] 1.218355\n",
      "\n",
      "$d_alpha\n",
      "[1] 0.03036807\n",
      "\n"
     ]
    },
    {
     "data": {
      "image/png": "[encoded data removed]",
      "text/plain": [
       "Plot with title \"Test graphique de noramlité\""
      ]
     },
     "metadata": {},
     "output_type": "display_data"
    }
   ],
   "source": [
    "V2=data$V2\n",
    "par(mfrow=c(1,2))\n",
    "require(graphics)\n",
    "#qqplot\n",
    "dist= qnorm(ppoints(length(V2)), mean=mean(V2),sd=sd(V2))\n",
    "qqplot(dist, V2, xlab = 'Theoretical Quantiles', ylab = 'Empirical Quantiles',\n",
    "       main = 'Q-Q plot Normal')\n",
    "qqline(V2, distribution = function(p) qnorm(p, mean=mean(V2),sd=sd(V2)),col=2)\n",
    "# Superposition de l'histogramme et de la densité de loi normale\n",
    "hist(V2,probability=T,col=\"blue\",breaks=25,main=\"Test graphique de noramlité\")\n",
    "curve(dnorm(x,mean(V2),sd(V2)),col=\"red\",add=T)\n",
    "#Les tests théoriques d'adéquation\n",
    "library(stats)\n",
    "library(nortest)\n",
    "print(\"tests existant dans R:\")\n",
    "Shapiro<-shapiro.test(V2)\n",
    "ks<-ks.test(V2,\"pnorm\",mean=mean(V2), sd=sd(V2))\n",
    "Anderson<-ad.test(V2)\n",
    "print(Shapiro)\n",
    "print(ks)\n",
    "print(Anderson)\n",
    "print(\"Mes tests implémentés:\")\n",
    "print(\"Test d'Anderson Darling\")\n",
    "print(Anderson_Darling(V2,alpha=0.05))\n",
    "print(\"Test de Kolmogorov-Smirnov\")\n",
    "print(Kolmogorov_Smirnov(V2,alpha=0.05,cible=\"normal\"))\n"
   ]
  },
  {
   "cell_type": "markdown",
   "metadata": {},
   "source": [
    "Grace aux tests graphiques et théoriques d'adéquation, nous concluons que la loi des données de la colonne V2 est la loi normale de moyenne et variance les moyenne et variance empiriques des données"
   ]
  },
  {
   "cell_type": "markdown",
   "metadata": {},
   "source": [
    "# d) Loi de la colonne V3"
   ]
  },
  {
   "cell_type": "code",
   "execution_count": 86,
   "metadata": {},
   "outputs": [
    {
     "name": "stdout",
     "output_type": "stream",
     "text": [
      "\n",
      "\tShapiro-Wilk normality test\n",
      "\n",
      "data:  V3\n",
      "W = 0.99764, p-value = 0.1633\n",
      "\n",
      "\n",
      "\tOne-sample Kolmogorov-Smirnov test\n",
      "\n",
      "data:  V3\n",
      "D = 0.020838, p-value = 0.778\n",
      "alternative hypothesis: two-sided\n",
      "\n",
      "\n",
      "\tAnderson-Darling normality test\n",
      "\n",
      "data:  V3\n",
      "A = 0.42415, p-value = 0.3175\n",
      "\n",
      "[1] \"Mes tests implémentés:\"\n",
      "[1] \"Test d'Anderson Darling\"\n",
      "$statistic\n",
      "[1] 0.4241506\n",
      "\n",
      "$p_value\n",
      "[1] 0.3175098\n",
      "\n",
      "[1] \"Test de Kolmogorov-Smirnov\"\n",
      "$statistic\n",
      "[1] 0.0208376\n",
      "\n",
      "$p_value\n",
      "[1] 0.8392355\n",
      "\n",
      "$d_alpha\n",
      "[1] 0.03036807\n",
      "\n"
     ]
    },
    {
     "data": {
      "image/png": "[encoded data removed]",
      "text/plain": [
       "Plot with title \"Test graphique de noramlité\""
      ]
     },
     "metadata": {},
     "output_type": "display_data"
    }
   ],
   "source": [
    "V3=data$V3\n",
    "par(mfrow=c(1,2))\n",
    "require(graphics)\n",
    "#qqplot\n",
    "dist= qnorm(ppoints(length(V3)), mean=mean(V3),sd=sd(V3))\n",
    "qqplot(dist, V3, xlab = 'Theoretical Quantiles', ylab = 'Empirical Quantiles',\n",
    "       main = 'Q-Q plot Normal')\n",
    "qqline(V3, distribution = function(p) qnorm(p, mean=mean(V3),sd=sd(V3)),col=2)\n",
    "# Superposition de l'histogramme et de la densité de loi normale\n",
    "hist(V3,probability=T,col=\"blue\",breaks=25,main=\"Test graphique de noramlité\")\n",
    "curve(dnorm(x,mean(V3),sd(V3)),col=\"red\",add=T)\n",
    "#Les tests théoriques d'adéquation\n",
    "library(stats)\n",
    "library(nortest)\n",
    "Shapiro<-shapiro.test(V3)\n",
    "ks<-ks.test(V3,\"pnorm\",mean=mean(V3), sd=sd(V3))\n",
    "Anderson<-ad.test(V3)\n",
    "print(Shapiro)\n",
    "print(ks)\n",
    "print(Anderson)\n",
    "\n",
    "print(\"Mes tests implémentés:\")\n",
    "print(\"Test d'Anderson Darling\")\n",
    "print(Anderson_Darling(V3,alpha=0.05))\n",
    "print(\"Test de Kolmogorov-Smirnov\")\n",
    "print(Kolmogorov_Smirnov(V3,alpha=0.05,cible=\"normal\"))\n"
   ]
  },
  {
   "cell_type": "markdown",
   "metadata": {},
   "source": [
    "Les graphiques et les différents tests d'adéquation nous permettent de déduire que les données de la colonne V3 sont distribuées selon la loi normale de moyenne la moyenne empirique des données et de variance la variance empirique des données."
   ]
  },
  {
   "cell_type": "markdown",
   "metadata": {},
   "source": [
    "# e) Loi de la colonne V4"
   ]
  },
  {
   "cell_type": "code",
   "execution_count": 87,
   "metadata": {},
   "outputs": [
    {
     "name": "stdout",
     "output_type": "stream",
     "text": [
      "\n",
      "\tShapiro-Wilk normality test\n",
      "\n",
      "data:  V4\n",
      "W = 0.99874, p-value = 0.7173\n",
      "\n",
      "\n",
      "\tOne-sample Kolmogorov-Smirnov test\n",
      "\n",
      "data:  V4\n",
      "D = 0.01914, p-value = 0.8573\n",
      "alternative hypothesis: two-sided\n",
      "\n",
      "\n",
      "\tAnderson-Darling normality test\n",
      "\n",
      "data:  V4\n",
      "A = 0.22472, p-value = 0.8218\n",
      "\n",
      "[1] \"Mes tests implémentés:\"\n",
      "[1] \"Test d'Anderson Darling\"\n",
      "$statistic\n",
      "[1] 0.2247164\n",
      "\n",
      "$p_value\n",
      "[1] 0.8218224\n",
      "\n",
      "[1] \"Test de Kolmogorov-Smirnov\"\n",
      "$statistic\n",
      "[1] 0.01913975\n",
      "\n",
      "$p_value\n",
      "[1] 0.9612576\n",
      "\n",
      "$d_alpha\n",
      "[1] 0.03036807\n",
      "\n"
     ]
    },
    {
     "data": {
      "image/png": "[encoded data removed]",
      "text/plain": [
       "Plot with title \"Test graphique de noramlité\""
      ]
     },
     "metadata": {},
     "output_type": "display_data"
    }
   ],
   "source": [
    "V4=data$V4\n",
    "par(mfrow=c(1,2))\n",
    "require(graphics)\n",
    "#qqplot\n",
    "dist= qnorm(ppoints(length(V4)), mean=mean(V4),sd=sd(V4))\n",
    "qqplot(dist, V4, xlab = 'Theoretical Quantiles', ylab = 'Empirical Quantiles',\n",
    "       main = 'Q-Q plot Normal')\n",
    "qqline(V4, distribution = function(p) qnorm(p, mean=mean(V4),sd=sd(V4)),col=2)\n",
    "# Superposition de l'histogramme et de la densité de loi normale\n",
    "hist(V4,probability=T,col=\"blue\",breaks=25,main=\"Test graphique de noramlité\")\n",
    "curve(dnorm(x,mean(V4),sd(V4)),col=\"red\",add=T)\n",
    "#Les tests théoriques d'adéquation\n",
    "library(stats)\n",
    "library(nortest)\n",
    "Shapiro<-shapiro.test(V4)\n",
    "ks<-ks.test(V4,\"pnorm\",mean=mean(V4), sd=sd(V4))\n",
    "Anderson<-ad.test(V4)\n",
    "print(Shapiro)\n",
    "print(ks)\n",
    "print(Anderson)\n",
    "       \n",
    "print(\"Mes tests implémentés:\")\n",
    "print(\"Test d'Anderson Darling\")\n",
    "print(Anderson_Darling(V4,alpha=0.05))\n",
    "print(\"Test de Kolmogorov-Smirnov\")\n",
    "print(Kolmogorov_Smirnov(V4,alpha=0.05,cible=\"normal\"))"
   ]
  },
  {
   "cell_type": "markdown",
   "metadata": {},
   "source": [
    "On déduit que les données de V4 sont distribuées selon une loi normale de moyenne et d'écart-type les moyenne et écart-type empirique des données."
   ]
  },
  {
   "cell_type": "markdown",
   "metadata": {},
   "source": [
    "# f) Loi de la colonne V5"
   ]
  },
  {
   "cell_type": "code",
   "execution_count": 88,
   "metadata": {},
   "outputs": [
    {
     "name": "stdout",
     "output_type": "stream",
     "text": [
      "[1] \"Tests existants dans R\"\n",
      "\n",
      "\tShapiro-Wilk normality test\n",
      "\n",
      "data:  log.V5\n",
      "W = 0.99848, p-value = 0.5433\n",
      "\n",
      "\n",
      "\tOne-sample Kolmogorov-Smirnov test\n",
      "\n",
      "data:  log.V5\n",
      "D = 0.019077, p-value = 0.8599\n",
      "alternative hypothesis: two-sided\n",
      "\n",
      "\n",
      "\tAnderson-Darling normality test\n",
      "\n",
      "data:  log.V5\n",
      "A = 0.35761, p-value = 0.4537\n",
      "\n",
      "[1] \"Mes tests implémentés:\"\n",
      "[1] \"Test d'Anderson Darling\"\n",
      "$statistic\n",
      "[1] 0.3576126\n",
      "\n",
      "$p_value\n",
      "[1] 0.453652\n",
      "\n",
      "[1] \"Test de Kolmogorov-Smirnov\"\n",
      "$statistic\n",
      "[1] 0.01907723\n",
      "\n",
      "$p_value\n",
      "[1] 0.9658623\n",
      "\n",
      "$d_alpha\n",
      "[1] 0.03036807\n",
      "\n"
     ]
    },
    {
     "data": {
      "image/png": "[encoded data removed]",
      "text/plain": [
       "Plot with title \"Test d'adéquation loi normale\""
      ]
     },
     "metadata": {},
     "output_type": "display_data"
    }
   ],
   "source": [
    "\n",
    "V5=data$V5\n",
    "log.V5=log(V5)#Transformation de V5 en log(V5)\n",
    "par(mfrow=c(1,2))\n",
    "require(graphics)\n",
    "#qqplot\n",
    "dist= qnorm(ppoints(length(log.V5)), \n",
    "            mean=mean(log.V5),sd=sd(log.V5))\n",
    "qqplot(dist, log.V5, xlab = 'Theoretical Quantiles', ylab = 'Empirical Quantiles',\n",
    "       main = 'Q-Q plot Normal')\n",
    "qqline(log.V5, distribution = function(p) qnorm(p, mean=mean(log.V5),sd= sd(log.V5)), col = 2)\n",
    "#Superposition de l'histogramme et de la densité de loi normale\n",
    "hist(log.V5,probability=T,col=\"blue\",breaks=25,\n",
    "     main=\"Test d'adéquation loi normale\")\n",
    "curve(dnorm(x,mean(log.V5),sd(log.V5)),col=\"red\",add=T)\n",
    "library(stats)\n",
    "library(nortest)\n",
    "Shapiro<-shapiro.test(log.V5)\n",
    "ks<-ks.test(log.V5,\"pnorm\",mean=mean(log.V5), sd=sd(log.V5))\n",
    "Anderson<-ad.test(log.V5)\n",
    "print(\"Tests existants dans R\")\n",
    "print(Shapiro)\n",
    "print(ks)\n",
    "print(Anderson)\n",
    "       \n",
    "print(\"Mes tests implémentés:\")\n",
    "print(\"Test d'Anderson Darling\")\n",
    "print(Anderson_Darling(log.V5,alpha=0.05))\n",
    "print(\"Test de Kolmogorov-Smirnov\")\n",
    "print(Kolmogorov_Smirnov(log.V5,alpha=0.05,cible=\"normal\"))"
   ]
  },
  {
   "cell_type": "markdown",
   "metadata": {},
   "source": [
    "Nous voyons que $log(V5)$ suit une loi normale donc V5 suit une loi log-normale"
   ]
  },
  {
   "cell_type": "markdown",
   "metadata": {},
   "source": [
    "# g) Loi de la colonne V6"
   ]
  },
  {
   "cell_type": "code",
   "execution_count": 89,
   "metadata": {},
   "outputs": [
    {
     "name": "stdout",
     "output_type": "stream",
     "text": [
      "\n",
      "\tOne-sample Kolmogorov-Smirnov test\n",
      "\n",
      "data:  V6\n",
      "D = 0.028278, p-value = 0.4007\n",
      "alternative hypothesis: two-sided\n",
      "\n",
      "[1] \"Mes tests réalisés:\"\n",
      "[1] \"Test de Kolmogorov-Smirnov\"\n",
      "$statistic\n",
      "[1] 0.02827849\n",
      "\n",
      "$p_value\n",
      "[1] 0.4040571\n",
      "\n",
      "$d_alpha\n",
      "[1] 0.03036807\n",
      "\n"
     ]
    },
    {
     "data": {
      "image/png": "[encoded data removed]",
      "text/plain": [
       "Plot with title \"Test graphique d'adéquation à la loi exponentielle\""
      ]
     },
     "metadata": {},
     "output_type": "display_data"
    }
   ],
   "source": [
    "V6=data$V6\n",
    "require(graphics)\n",
    "par(mfrow=c(1,2))\n",
    "#qqplot\n",
    "dist= qexp(ppoints(length(V6)), rate = 1/mean(V6))\n",
    "qqplot(dist, V6, xlab = 'Theoretical Quantiles', \n",
    "       ylab = 'Empirical Quantiles',\n",
    "       main = 'Q-Q plot Exponentielle')\n",
    "qqline(V6, distribution = function(p) qexp(p, rate = 1/mean(V6)),\n",
    "       , col = 2)\n",
    "#Superposition de densité et histogramme\n",
    "hist(V6,probability=T,col=\"blue\",breaks=25,\n",
    "     main=\"Test graphique d'adéquation à la loi exponentielle\")\n",
    "curve(dexp(x,1/mean(V6)),col=\"red\",add=T)\n",
    "ks<-ks.test(V6,\"pexp\",rate=1/mean(V6))\n",
    "print(ks)\n",
    "print(\"Mes tests réalisés:\")\n",
    "print(\"Test de Kolmogorov-Smirnov\")\n",
    "print(Kolmogorov_Smirnov(V6,alpha=0.05,cible=\"exponential\"))"
   ]
  },
  {
   "cell_type": "markdown",
   "metadata": {},
   "source": [
    "Les tests graphiques et le test de Kolmogorov-Smirnov nous permettent de conclure que les données de la colonne V6 suivent une loi exponentielle de paramètre l'inverse de la moyenne empirique des données."
   ]
  },
  {
   "cell_type": "markdown",
   "metadata": {},
   "source": [
    "# 2-) Construction des cartes de contrôle sur la moyenne, la variance et l'étendu pour les colonnes 7 à 106"
   ]
  },
  {
   "cell_type": "markdown",
   "metadata": {},
   "source": [
    "# a-) Carte sur la moyenne et l'étendu (carte $\\bar{X}$ et $R$)\n",
    "***-Pour la carte $\\bar{x}$:*** ligne centrale = $\\bar{\\bar{x}}$ ; $UCL=\\bar{\\bar{x}}+A_{2}\\bar{R}$ et $LCL=\\bar{\\bar{x}}-A_{2}\\bar{R}$  \n",
    "***-Pour la carte R :*** ligne centrale = $\\bar{R}$ ; $UCL=D_{4}\\bar{R}$ et $LCL=D_{3}\\bar{R}$  \n",
    "Avec: $\\bar{\\bar{x}}=\\sum_{i=1}^k \\frac{\\bar{x_i}}{k}$ où ${\\bar{x_i}}$ est la moyenne de l'échantillon i parmi les k échantillons; $\\bar{R}=\\sum_{i=1}^k \\frac{R_i}{k}$ où $R_i=x_{max}^{(i)}-x^{(i)}_{min}$ est l'étendu de l'échantillon i parmi les k échantillons.  \n",
    "$D_{3}=1-\\frac{3d3}{d2}, D_{4}=1+\\frac{3d3}{d2}, A_{2}=\\frac{3}{\\sqrt{d_{2}n}}$ où $d_2$ et $d_3$ sont donnés par le package SixSigma pour n donné."
   ]
  },
  {
   "cell_type": "code",
   "execution_count": 90,
   "metadata": {},
   "outputs": [
    {
     "data": {
      "text/plain": [
       "[1] '0.9.52'"
      ]
     },
     "metadata": {},
     "output_type": "display_data"
    }
   ],
   "source": [
    "#install.packages(\"SixSigma\")\n",
    "library(SixSigma)\n",
    "packageVersion(\"SixSigma\")"
   ]
  },
  {
   "cell_type": "code",
   "execution_count": 91,
   "metadata": {},
   "outputs": [],
   "source": [
    "carte_Xbar_R<-function(data,colonne,y_lim=T){\n",
    "    \n",
    "    \n",
    "    n=1000\n",
    "    k=length(colonne)\n",
    "    d2=ss.cc.getd2(n = n)\n",
    "    d3=ss.cc.getd3(n = n)\n",
    "    D3=1-(3*d3/d2)\n",
    "    D4=1+(3*d3/d2)\n",
    "    A2=3/(d2*sqrt(n))\n",
    "    sample=1:k\n",
    "    x_bar=apply(data[,colonne], 2, function(x) mean(x))\n",
    "    x_bar_bar=mean(x_bar)\n",
    "    R=apply(data[,colonne], 2, function(x) {max(x)-min(x)})\n",
    "    R_bar=mean(R)\n",
    "    #calcul des bornes\n",
    "    x_UCL=x_bar_bar+A2*R_bar\n",
    "    x_LCL=x_bar_bar-A2*R_bar\n",
    "    R_UCL=D4*R_bar\n",
    "    R_LCL=D3*R_bar\n",
    "    par(mfrow=c(2,1))\n",
    "    if (y_lim){\n",
    "        plot(sample,x_bar,main=\"Carte X_bar\", pch = 19,type=\"o\",\n",
    "             ylim=c(x_LCL,x_UCL))\n",
    "        abline(h=x_bar_bar,col=\"green\")\n",
    "        abline(h=x_UCL,col=\"red\")\n",
    "        abline(h=x_LCL,col=\"red\")\n",
    "    \n",
    "        plot(sample,R,main=\"Carte R\",pch=19,type=\"o\",\n",
    "             ylim=c(min(R)-1,max(R)+1))\n",
    "        abline(h=R_bar,col=\"green\")\n",
    "        abline(h=R_UCL,col=\"red\")\n",
    "        abline(h=R_LCL,col=\"red\")\n",
    "        \n",
    "    }\n",
    "    else{\n",
    "        plot(sample,x_bar,main=\"Carte X_bar\", pch = 19,type=\"o\")\n",
    "        abline(h=x_bar_bar,col=\"green\")\n",
    "        abline(h=x_UCL,col=\"red\")\n",
    "        abline(h=x_LCL,col=\"red\")\n",
    "        legend(par('usr')[1],par('usr')[4],\n",
    "               c(\"x_bar\",\"center line\",\"bounds\"),\n",
    "               lty=1,xjust=0,lwd=2,col=c(\"black\",\"green\",\"red\"))\n",
    "            \n",
    "        plot(sample,R,main=\"Carte R\",pch=19,type=\"o\")\n",
    "        abline(h=R_bar,col=\"green\")\n",
    "        abline(h=R_UCL,col=\"red\")\n",
    "        abline(h=R_LCL,col=\"red\")\n",
    "        legend(par('usr')[1],par('usr')[4],\n",
    "               c(\"R\",\"center line\",\"bounds\"),lty=1,\n",
    "               xjust=0,lwd=2,col=c(\"black\",\"green\",\"red\"))\n",
    "\n",
    "        \n",
    "        \n",
    "    }\n",
    "    \n",
    "    \n",
    "    \n",
    "}\n"
   ]
  },
  {
   "cell_type": "markdown",
   "metadata": {},
   "source": [
    "On construit les cartes avec les colonnes 7 à 106."
   ]
  },
  {
   "cell_type": "code",
   "execution_count": 92,
   "metadata": {},
   "outputs": [
    {
     "data": {
      "image/png": "[encoded data removed]",
      "text/plain": [
       "Plot with title \"Carte R\""
      ]
     },
     "metadata": {},
     "output_type": "display_data"
    }
   ],
   "source": [
    "colonne=c()\n",
    "for (i in 7:106){\n",
    "        colonne=c(colonne,paste(\"V\",i,sep = \"\", collapse = NULL))\n",
    "  \n",
    "}\n",
    "\n",
    "carte_Xbar_R(data,colonne,y_lim=F)\n"
   ]
  },
  {
   "cell_type": "markdown",
   "metadata": {},
   "source": [
    "**Analyse et interpretation:** Aucun point n'est dans la bonne zone (tous les points sont déréglés).Ce qui est compréhensible car il y a une très grande variance entre les échantillons.  \n",
    "Ainsi j'ai decidé de spliter les échantillons en 3 sous-groupes d'échantilons et de construire les cartes $\\bar{X}$ et $R$ pour chaque groupe. La formation des 3 sous-groupes se fera par la mise ensemble des échantillons (colonnes) qui ont des moyennes proches."
   ]
  },
  {
   "cell_type": "code",
   "execution_count": 93,
   "metadata": {},
   "outputs": [
    {
     "data": {
      "text/html": [
       "<dl class=dl-horizontal>\n",
       "\t<dt>V7</dt>\n",
       "\t\t<dd>1.97689773968189</dd>\n",
       "\t<dt>V8</dt>\n",
       "\t\t<dd>2.00504378582362</dd>\n",
       "\t<dt>V9</dt>\n",
       "\t\t<dd>2.01033643112164</dd>\n",
       "\t<dt>V10</dt>\n",
       "\t\t<dd>1.98865428545014</dd>\n",
       "\t<dt>V11</dt>\n",
       "\t\t<dd>2.02259841019225</dd>\n",
       "\t<dt>V12</dt>\n",
       "\t\t<dd>2.02011278329226</dd>\n",
       "\t<dt>V13</dt>\n",
       "\t\t<dd>1.98982784342701</dd>\n",
       "\t<dt>V14</dt>\n",
       "\t\t<dd>1.99488116504665</dd>\n",
       "\t<dt>V15</dt>\n",
       "\t\t<dd>1.972455147699</dd>\n",
       "\t<dt>V16</dt>\n",
       "\t\t<dd>1.99991772606151</dd>\n",
       "\t<dt>V17</dt>\n",
       "\t\t<dd>1.97623193912147</dd>\n",
       "\t<dt>V18</dt>\n",
       "\t\t<dd>2.01147396641759</dd>\n",
       "\t<dt>V19</dt>\n",
       "\t\t<dd>1.98167253159126</dd>\n",
       "\t<dt>V20</dt>\n",
       "\t\t<dd>2.03033186757898</dd>\n",
       "\t<dt>V21</dt>\n",
       "\t\t<dd>2.00169158000546</dd>\n",
       "\t<dt>V22</dt>\n",
       "\t\t<dd>2.00349150721298</dd>\n",
       "\t<dt>V23</dt>\n",
       "\t\t<dd>2.00203137780712</dd>\n",
       "\t<dt>V24</dt>\n",
       "\t\t<dd>2.00424598633455</dd>\n",
       "\t<dt>V25</dt>\n",
       "\t\t<dd>1.99689066786104</dd>\n",
       "\t<dt>V26</dt>\n",
       "\t\t<dd>1.98256022840701</dd>\n",
       "\t<dt>V27</dt>\n",
       "\t\t<dd>1.98002019266651</dd>\n",
       "\t<dt>V28</dt>\n",
       "\t\t<dd>1.99075468224767</dd>\n",
       "\t<dt>V29</dt>\n",
       "\t\t<dd>2.00578103878754</dd>\n",
       "\t<dt>V30</dt>\n",
       "\t\t<dd>1.99264684568511</dd>\n",
       "\t<dt>V31</dt>\n",
       "\t\t<dd>2.01326040474599</dd>\n",
       "\t<dt>V32</dt>\n",
       "\t\t<dd>1.97639201766047</dd>\n",
       "\t<dt>V33</dt>\n",
       "\t\t<dd>2.00167796066064</dd>\n",
       "\t<dt>V34</dt>\n",
       "\t\t<dd>2.01661463645291</dd>\n",
       "\t<dt>V35</dt>\n",
       "\t\t<dd>1.99610775872114</dd>\n",
       "\t<dt>V36</dt>\n",
       "\t\t<dd>2.02330922950991</dd>\n",
       "\t<dt>V37</dt>\n",
       "\t\t<dd>61.7019462332824</dd>\n",
       "\t<dt>V38</dt>\n",
       "\t\t<dd>62.0896025799058</dd>\n",
       "\t<dt>V39</dt>\n",
       "\t\t<dd>60.3891636075073</dd>\n",
       "\t<dt>V40</dt>\n",
       "\t\t<dd>60.4051394548859</dd>\n",
       "\t<dt>V41</dt>\n",
       "\t\t<dd>61.8277610505459</dd>\n",
       "\t<dt>V42</dt>\n",
       "\t\t<dd>62.0621813158895</dd>\n",
       "\t<dt>V43</dt>\n",
       "\t\t<dd>61.6564509107302</dd>\n",
       "\t<dt>V44</dt>\n",
       "\t\t<dd>62.3056700873235</dd>\n",
       "\t<dt>V45</dt>\n",
       "\t\t<dd>61.8606148355609</dd>\n",
       "\t<dt>V46</dt>\n",
       "\t\t<dd>60.1718296514476</dd>\n",
       "\t<dt>V47</dt>\n",
       "\t\t<dd>7.633081041076</dd>\n",
       "\t<dt>V48</dt>\n",
       "\t\t<dd>7.56771781495539</dd>\n",
       "\t<dt>V49</dt>\n",
       "\t\t<dd>7.56561823539272</dd>\n",
       "\t<dt>V50</dt>\n",
       "\t\t<dd>7.68243223733496</dd>\n",
       "\t<dt>V51</dt>\n",
       "\t\t<dd>7.61574251756032</dd>\n",
       "\t<dt>V52</dt>\n",
       "\t\t<dd>7.59349925499133</dd>\n",
       "\t<dt>V53</dt>\n",
       "\t\t<dd>7.57919363621674</dd>\n",
       "\t<dt>V54</dt>\n",
       "\t\t<dd>7.58360047113856</dd>\n",
       "\t<dt>V55</dt>\n",
       "\t\t<dd>7.55398397022299</dd>\n",
       "\t<dt>V56</dt>\n",
       "\t\t<dd>7.63564753162199</dd>\n",
       "\t<dt>V57</dt>\n",
       "\t\t<dd>7.65340488243303</dd>\n",
       "\t<dt>V58</dt>\n",
       "\t\t<dd>7.70096283459827</dd>\n",
       "\t<dt>V59</dt>\n",
       "\t\t<dd>7.57625918955942</dd>\n",
       "\t<dt>V60</dt>\n",
       "\t\t<dd>7.64978423914481</dd>\n",
       "\t<dt>V61</dt>\n",
       "\t\t<dd>7.6021787744497</dd>\n",
       "\t<dt>V62</dt>\n",
       "\t\t<dd>7.71325324327082</dd>\n",
       "\t<dt>V63</dt>\n",
       "\t\t<dd>7.53788410958441</dd>\n",
       "\t<dt>V64</dt>\n",
       "\t\t<dd>7.59133748683628</dd>\n",
       "\t<dt>V65</dt>\n",
       "\t\t<dd>7.65837812336541</dd>\n",
       "\t<dt>V66</dt>\n",
       "\t\t<dd>7.58218412981903</dd>\n",
       "\t<dt>V67</dt>\n",
       "\t\t<dd>7.71135294236704</dd>\n",
       "\t<dt>V68</dt>\n",
       "\t\t<dd>7.75405189536624</dd>\n",
       "\t<dt>V69</dt>\n",
       "\t\t<dd>7.53215474210585</dd>\n",
       "\t<dt>V70</dt>\n",
       "\t\t<dd>7.62318111257099</dd>\n",
       "\t<dt>V71</dt>\n",
       "\t\t<dd>7.58784298215795</dd>\n",
       "\t<dt>V72</dt>\n",
       "\t\t<dd>7.63021299822259</dd>\n",
       "\t<dt>V73</dt>\n",
       "\t\t<dd>7.69395294601709</dd>\n",
       "\t<dt>V74</dt>\n",
       "\t\t<dd>7.62687889924311</dd>\n",
       "\t<dt>V75</dt>\n",
       "\t\t<dd>7.62514565228077</dd>\n",
       "\t<dt>V76</dt>\n",
       "\t\t<dd>7.5440052601801</dd>\n",
       "\t<dt>V77</dt>\n",
       "\t\t<dd>7.63634344601049</dd>\n",
       "\t<dt>V78</dt>\n",
       "\t\t<dd>7.56543813210061</dd>\n",
       "\t<dt>V79</dt>\n",
       "\t\t<dd>7.66215206511222</dd>\n",
       "\t<dt>V80</dt>\n",
       "\t\t<dd>7.61839242815952</dd>\n",
       "\t<dt>V81</dt>\n",
       "\t\t<dd>7.59235525125182</dd>\n",
       "\t<dt>V82</dt>\n",
       "\t\t<dd>7.60544014519413</dd>\n",
       "\t<dt>V83</dt>\n",
       "\t\t<dd>7.69590873114551</dd>\n",
       "\t<dt>V84</dt>\n",
       "\t\t<dd>7.60814073116016</dd>\n",
       "\t<dt>V85</dt>\n",
       "\t\t<dd>7.66804342848536</dd>\n",
       "\t<dt>V86</dt>\n",
       "\t\t<dd>7.59342920745594</dd>\n",
       "\t<dt>V87</dt>\n",
       "\t\t<dd>7.7763219553511</dd>\n",
       "\t<dt>V88</dt>\n",
       "\t\t<dd>7.65114726088902</dd>\n",
       "\t<dt>V89</dt>\n",
       "\t\t<dd>7.61729945191423</dd>\n",
       "\t<dt>V90</dt>\n",
       "\t\t<dd>7.63595463843749</dd>\n",
       "\t<dt>V91</dt>\n",
       "\t\t<dd>7.6101108741333</dd>\n",
       "\t<dt>V92</dt>\n",
       "\t\t<dd>7.57996855185903</dd>\n",
       "\t<dt>V93</dt>\n",
       "\t\t<dd>7.64417703365896</dd>\n",
       "\t<dt>V94</dt>\n",
       "\t\t<dd>7.80940291486554</dd>\n",
       "\t<dt>V95</dt>\n",
       "\t\t<dd>7.63503225209961</dd>\n",
       "\t<dt>V96</dt>\n",
       "\t\t<dd>7.65775346987185</dd>\n",
       "\t<dt>V97</dt>\n",
       "\t\t<dd>7.61707048832059</dd>\n",
       "\t<dt>V98</dt>\n",
       "\t\t<dd>7.66657301303782</dd>\n",
       "\t<dt>V99</dt>\n",
       "\t\t<dd>7.66043600286531</dd>\n",
       "\t<dt>V100</dt>\n",
       "\t\t<dd>7.76875571303425</dd>\n",
       "\t<dt>V101</dt>\n",
       "\t\t<dd>7.669748991973</dd>\n",
       "\t<dt>V102</dt>\n",
       "\t\t<dd>7.55762807462121</dd>\n",
       "\t<dt>V103</dt>\n",
       "\t\t<dd>7.74931710414365</dd>\n",
       "\t<dt>V104</dt>\n",
       "\t\t<dd>7.54871485469559</dd>\n",
       "\t<dt>V105</dt>\n",
       "\t\t<dd>7.63151609632816</dd>\n",
       "\t<dt>V106</dt>\n",
       "\t\t<dd>7.59350871640929</dd>\n",
       "</dl>\n"
      ],
      "text/latex": [
       "\\begin{description*}\n",
       "\\item[V7] 1.97689773968189\n",
       "\\item[V8] 2.00504378582362\n",
       "\\item[V9] 2.01033643112164\n",
       "\\item[V10] 1.98865428545014\n",
       "\\item[V11] 2.02259841019225\n",
       "\\item[V12] 2.02011278329226\n",
       "\\item[V13] 1.98982784342701\n",
       "\\item[V14] 1.99488116504665\n",
       "\\item[V15] 1.972455147699\n",
       "\\item[V16] 1.99991772606151\n",
       "\\item[V17] 1.97623193912147\n",
       "\\item[V18] 2.01147396641759\n",
       "\\item[V19] 1.98167253159126\n",
       "\\item[V20] 2.03033186757898\n",
       "\\item[V21] 2.00169158000546\n",
       "\\item[V22] 2.00349150721298\n",
       "\\item[V23] 2.00203137780712\n",
       "\\item[V24] 2.00424598633455\n",
       "\\item[V25] 1.99689066786104\n",
       "\\item[V26] 1.98256022840701\n",
       "\\item[V27] 1.98002019266651\n",
       "\\item[V28] 1.99075468224767\n",
       "\\item[V29] 2.00578103878754\n",
       "\\item[V30] 1.99264684568511\n",
       "\\item[V31] 2.01326040474599\n",
       "\\item[V32] 1.97639201766047\n",
       "\\item[V33] 2.00167796066064\n",
       "\\item[V34] 2.01661463645291\n",
       "\\item[V35] 1.99610775872114\n",
       "\\item[V36] 2.02330922950991\n",
       "\\item[V37] 61.7019462332824\n",
       "\\item[V38] 62.0896025799058\n",
       "\\item[V39] 60.3891636075073\n",
       "\\item[V40] 60.4051394548859\n",
       "\\item[V41] 61.8277610505459\n",
       "\\item[V42] 62.0621813158895\n",
       "\\item[V43] 61.6564509107302\n",
       "\\item[V44] 62.3056700873235\n",
       "\\item[V45] 61.8606148355609\n",
       "\\item[V46] 60.1718296514476\n",
       "\\item[V47] 7.633081041076\n",
       "\\item[V48] 7.56771781495539\n",
       "\\item[V49] 7.56561823539272\n",
       "\\item[V50] 7.68243223733496\n",
       "\\item[V51] 7.61574251756032\n",
       "\\item[V52] 7.59349925499133\n",
       "\\item[V53] 7.57919363621674\n",
       "\\item[V54] 7.58360047113856\n",
       "\\item[V55] 7.55398397022299\n",
       "\\item[V56] 7.63564753162199\n",
       "\\item[V57] 7.65340488243303\n",
       "\\item[V58] 7.70096283459827\n",
       "\\item[V59] 7.57625918955942\n",
       "\\item[V60] 7.64978423914481\n",
       "\\item[V61] 7.6021787744497\n",
       "\\item[V62] 7.71325324327082\n",
       "\\item[V63] 7.53788410958441\n",
       "\\item[V64] 7.59133748683628\n",
       "\\item[V65] 7.65837812336541\n",
       "\\item[V66] 7.58218412981903\n",
       "\\item[V67] 7.71135294236704\n",
       "\\item[V68] 7.75405189536624\n",
       "\\item[V69] 7.53215474210585\n",
       "\\item[V70] 7.62318111257099\n",
       "\\item[V71] 7.58784298215795\n",
       "\\item[V72] 7.63021299822259\n",
       "\\item[V73] 7.69395294601709\n",
       "\\item[V74] 7.62687889924311\n",
       "\\item[V75] 7.62514565228077\n",
       "\\item[V76] 7.5440052601801\n",
       "\\item[V77] 7.63634344601049\n",
       "\\item[V78] 7.56543813210061\n",
       "\\item[V79] 7.66215206511222\n",
       "\\item[V80] 7.61839242815952\n",
       "\\item[V81] 7.59235525125182\n",
       "\\item[V82] 7.60544014519413\n",
       "\\item[V83] 7.69590873114551\n",
       "\\item[V84] 7.60814073116016\n",
       "\\item[V85] 7.66804342848536\n",
       "\\item[V86] 7.59342920745594\n",
       "\\item[V87] 7.7763219553511\n",
       "\\item[V88] 7.65114726088902\n",
       "\\item[V89] 7.61729945191423\n",
       "\\item[V90] 7.63595463843749\n",
       "\\item[V91] 7.6101108741333\n",
       "\\item[V92] 7.57996855185903\n",
       "\\item[V93] 7.64417703365896\n",
       "\\item[V94] 7.80940291486554\n",
       "\\item[V95] 7.63503225209961\n",
       "\\item[V96] 7.65775346987185\n",
       "\\item[V97] 7.61707048832059\n",
       "\\item[V98] 7.66657301303782\n",
       "\\item[V99] 7.66043600286531\n",
       "\\item[V100] 7.76875571303425\n",
       "\\item[V101] 7.669748991973\n",
       "\\item[V102] 7.55762807462121\n",
       "\\item[V103] 7.74931710414365\n",
       "\\item[V104] 7.54871485469559\n",
       "\\item[V105] 7.63151609632816\n",
       "\\item[V106] 7.59350871640929\n",
       "\\end{description*}\n"
      ],
      "text/markdown": [
       "V7\n",
       ":   1.97689773968189V8\n",
       ":   2.00504378582362V9\n",
       ":   2.01033643112164V10\n",
       ":   1.98865428545014V11\n",
       ":   2.02259841019225V12\n",
       ":   2.02011278329226V13\n",
       ":   1.98982784342701V14\n",
       ":   1.99488116504665V15\n",
       ":   1.972455147699V16\n",
       ":   1.99991772606151V17\n",
       ":   1.97623193912147V18\n",
       ":   2.01147396641759V19\n",
       ":   1.98167253159126V20\n",
       ":   2.03033186757898V21\n",
       ":   2.00169158000546V22\n",
       ":   2.00349150721298V23\n",
       ":   2.00203137780712V24\n",
       ":   2.00424598633455V25\n",
       ":   1.99689066786104V26\n",
       ":   1.98256022840701V27\n",
       ":   1.98002019266651V28\n",
       ":   1.99075468224767V29\n",
       ":   2.00578103878754V30\n",
       ":   1.99264684568511V31\n",
       ":   2.01326040474599V32\n",
       ":   1.97639201766047V33\n",
       ":   2.00167796066064V34\n",
       ":   2.01661463645291V35\n",
       ":   1.99610775872114V36\n",
       ":   2.02330922950991V37\n",
       ":   61.7019462332824V38\n",
       ":   62.0896025799058V39\n",
       ":   60.3891636075073V40\n",
       ":   60.4051394548859V41\n",
       ":   61.8277610505459V42\n",
       ":   62.0621813158895V43\n",
       ":   61.6564509107302V44\n",
       ":   62.3056700873235V45\n",
       ":   61.8606148355609V46\n",
       ":   60.1718296514476V47\n",
       ":   7.633081041076V48\n",
       ":   7.56771781495539V49\n",
       ":   7.56561823539272V50\n",
       ":   7.68243223733496V51\n",
       ":   7.61574251756032V52\n",
       ":   7.59349925499133V53\n",
       ":   7.57919363621674V54\n",
       ":   7.58360047113856V55\n",
       ":   7.55398397022299V56\n",
       ":   7.63564753162199V57\n",
       ":   7.65340488243303V58\n",
       ":   7.70096283459827V59\n",
       ":   7.57625918955942V60\n",
       ":   7.64978423914481V61\n",
       ":   7.6021787744497V62\n",
       ":   7.71325324327082V63\n",
       ":   7.53788410958441V64\n",
       ":   7.59133748683628V65\n",
       ":   7.65837812336541V66\n",
       ":   7.58218412981903V67\n",
       ":   7.71135294236704V68\n",
       ":   7.75405189536624V69\n",
       ":   7.53215474210585V70\n",
       ":   7.62318111257099V71\n",
       ":   7.58784298215795V72\n",
       ":   7.63021299822259V73\n",
       ":   7.69395294601709V74\n",
       ":   7.62687889924311V75\n",
       ":   7.62514565228077V76\n",
       ":   7.5440052601801V77\n",
       ":   7.63634344601049V78\n",
       ":   7.56543813210061V79\n",
       ":   7.66215206511222V80\n",
       ":   7.61839242815952V81\n",
       ":   7.59235525125182V82\n",
       ":   7.60544014519413V83\n",
       ":   7.69590873114551V84\n",
       ":   7.60814073116016V85\n",
       ":   7.66804342848536V86\n",
       ":   7.59342920745594V87\n",
       ":   7.7763219553511V88\n",
       ":   7.65114726088902V89\n",
       ":   7.61729945191423V90\n",
       ":   7.63595463843749V91\n",
       ":   7.6101108741333V92\n",
       ":   7.57996855185903V93\n",
       ":   7.64417703365896V94\n",
       ":   7.80940291486554V95\n",
       ":   7.63503225209961V96\n",
       ":   7.65775346987185V97\n",
       ":   7.61707048832059V98\n",
       ":   7.66657301303782V99\n",
       ":   7.66043600286531V100\n",
       ":   7.76875571303425V101\n",
       ":   7.669748991973V102\n",
       ":   7.55762807462121V103\n",
       ":   7.74931710414365V104\n",
       ":   7.54871485469559V105\n",
       ":   7.63151609632816V106\n",
       ":   7.59350871640929\n",
       "\n"
      ],
      "text/plain": [
       "       V7        V8        V9       V10       V11       V12       V13       V14 \n",
       " 1.976898  2.005044  2.010336  1.988654  2.022598  2.020113  1.989828  1.994881 \n",
       "      V15       V16       V17       V18       V19       V20       V21       V22 \n",
       " 1.972455  1.999918  1.976232  2.011474  1.981673  2.030332  2.001692  2.003492 \n",
       "      V23       V24       V25       V26       V27       V28       V29       V30 \n",
       " 2.002031  2.004246  1.996891  1.982560  1.980020  1.990755  2.005781  1.992647 \n",
       "      V31       V32       V33       V34       V35       V36       V37       V38 \n",
       " 2.013260  1.976392  2.001678  2.016615  1.996108  2.023309 61.701946 62.089603 \n",
       "      V39       V40       V41       V42       V43       V44       V45       V46 \n",
       "60.389164 60.405139 61.827761 62.062181 61.656451 62.305670 61.860615 60.171830 \n",
       "      V47       V48       V49       V50       V51       V52       V53       V54 \n",
       " 7.633081  7.567718  7.565618  7.682432  7.615743  7.593499  7.579194  7.583600 \n",
       "      V55       V56       V57       V58       V59       V60       V61       V62 \n",
       " 7.553984  7.635648  7.653405  7.700963  7.576259  7.649784  7.602179  7.713253 \n",
       "      V63       V64       V65       V66       V67       V68       V69       V70 \n",
       " 7.537884  7.591337  7.658378  7.582184  7.711353  7.754052  7.532155  7.623181 \n",
       "      V71       V72       V73       V74       V75       V76       V77       V78 \n",
       " 7.587843  7.630213  7.693953  7.626879  7.625146  7.544005  7.636343  7.565438 \n",
       "      V79       V80       V81       V82       V83       V84       V85       V86 \n",
       " 7.662152  7.618392  7.592355  7.605440  7.695909  7.608141  7.668043  7.593429 \n",
       "      V87       V88       V89       V90       V91       V92       V93       V94 \n",
       " 7.776322  7.651147  7.617299  7.635955  7.610111  7.579969  7.644177  7.809403 \n",
       "      V95       V96       V97       V98       V99      V100      V101      V102 \n",
       " 7.635032  7.657753  7.617070  7.666573  7.660436  7.768756  7.669749  7.557628 \n",
       "     V103      V104      V105      V106 \n",
       " 7.749317  7.548715  7.631516  7.593509 "
      ]
     },
     "metadata": {},
     "output_type": "display_data"
    }
   ],
   "source": [
    "#Visualisation des moyennes des colonnes en vue de former les 3 sous groupes\n",
    "x_bar=apply(data[,colonne], 2, function(x) mean(x))\n",
    "x_bar\n",
    "\n"
   ]
  },
  {
   "cell_type": "code",
   "execution_count": 94,
   "metadata": {},
   "outputs": [],
   "source": [
    "colonne1=colonne[1:30]\n",
    "colonne2=colonne[31:40]\n",
    "colonne3=colonne[41:length(colonne)]\n"
   ]
  },
  {
   "cell_type": "code",
   "execution_count": 95,
   "metadata": {},
   "outputs": [
    {
     "data": {
      "image/png": "[encoded data removed]",
      "text/plain": [
       "Plot with title \"Carte R\""
      ]
     },
     "metadata": {},
     "output_type": "display_data"
    }
   ],
   "source": [
    "#Construction des cartes X_bar et R pour le 1er sous-groupe\n",
    "carte_Xbar_R(data,colonne1)"
   ]
  },
  {
   "cell_type": "markdown",
   "metadata": {},
   "source": [
    "**Analyse**:Pour ce sous-groupe (colonnes V7 à V36),tous les points sont dans les limites de contrôle pour les cartes $\\bar{X}$ et R."
   ]
  },
  {
   "cell_type": "code",
   "execution_count": 96,
   "metadata": {},
   "outputs": [
    {
     "data": {
      "image/png": "[encoded data removed]",
      "text/plain": [
       "Plot with title \"Carte R\""
      ]
     },
     "metadata": {},
     "output_type": "display_data"
    }
   ],
   "source": [
    "#Construction des cartes X_bar et R pour le 2nd sous-groupe\n",
    "carte_Xbar_R(data,colonne2,y_lim=T)"
   ]
  },
  {
   "cell_type": "markdown",
   "metadata": {},
   "source": [
    "**Analyse**:Pour ce sous-groupe (colonnes V37 à V46),tous les points sont dans les limites de contrôle pour la carte $\\bar{X}$ tandis qu'il y a un déréglage au $3^{ème}, 6^{ème}$ et $7^{ème}$ échantillon pour la carte R."
   ]
  },
  {
   "cell_type": "code",
   "execution_count": 97,
   "metadata": {},
   "outputs": [
    {
     "data": {
      "image/png": "[encoded data removed]",
      "text/plain": [
       "Plot with title \"Carte R\""
      ]
     },
     "metadata": {},
     "output_type": "display_data"
    }
   ],
   "source": [
    "#Construction des cartes X_bar et R pour le 3ème sous-groupe\n",
    "carte_Xbar_R(data,colonne3,y_lim=T)"
   ]
  },
  {
   "cell_type": "markdown",
   "metadata": {},
   "source": [
    "**Analyse**:Pour ce sous-groupe (colonnes V47 à V106),tous les points sont dans les limites de contrôle pour la carte $\\bar{X}$ tandis qu'il y a un déréglage au $14^{ème}, 21^{ème}$ et $49^{ème}$ échantillon pour la carte R."
   ]
  },
  {
   "cell_type": "markdown",
   "metadata": {},
   "source": [
    "# b-) Carte sur la moyenne et la variance (carte $\\bar{X}$ et $s$)\n",
    "***-Pour la carte s:*** ligne centrale = $\\bar{s}$ avec $\\bar{s}=\\sum_{i=1}^k \\frac{s_i}{k}$ où $\\sqrt{s_{i}=\\frac{1}{n-1}\\sum_{i=1}^n (x_{i}-\\bar{x})^2}$ est l'écart-type empirique de l'échantillon i parmi les k échantillons; $LCL=B_{3}\\bar{s}$ ; $UCL=B_{4}\\bar{s}$ avec pour $c_{4}=\\frac{4(n-1)}{4n-3}$ , $B_{3}=1-\\frac{3}{c_{4}\\sqrt{2(n-1)}}$ , $B_{4}=1+\\frac{3}{c_{4}\\sqrt{2(n-1)}}$  \n",
    "***-Pour la carte $\\bar{x}$:*** ligne centrale = $\\bar{\\bar{x}}$ ; $LCL=\\bar{\\bar{x}}-A_{3}\\bar{s}$ ; $UCL=\\bar{\\bar{x}}+A_{3}\\bar{s}$ avec $A_{3}=\\frac{3}{c_{4}\\sqrt{n}}$"
   ]
  },
  {
   "cell_type": "code",
   "execution_count": 98,
   "metadata": {},
   "outputs": [],
   "source": [
    "carte_Xbar_s<-function(data,colonne,y_lim=T){\n",
    "    n=1000\n",
    "    k=length(colonne)\n",
    "    c4=4*(n-1)/(4*n-3)\n",
    "    B3=1-3/(c4*sqrt(2*(n-1)))\n",
    "    B4=1+3/(c4*sqrt(2*(n-1)))\n",
    "    A3=3/(c4*sqrt(n))\n",
    "    x_bar=apply(data[,colonne], 2, function(x) mean(x))\n",
    "    x_bar_bar=mean(x_bar)\n",
    "    s=apply(data[,colonne], 2, function(x) sd(x))\n",
    "    s_bar=mean(s)\n",
    "    #calcul des bornes\n",
    "    x_LCL=x_bar_bar-A3*s_bar\n",
    "    x_UCL=x_bar_bar+A3*s_bar\n",
    "    s_LCL=B3*s_bar\n",
    "    s_UCL=B4*s_bar\n",
    "    sample=1:k\n",
    "            \n",
    "    if(y_lim){\n",
    "        par(mfrow=c(2,1))\n",
    "        plot(sample,x_bar,main=\"Carte X_bar\", pch = 19,type=\"o\",ylim=c(x_LCL,x_UCL))\n",
    "        abline(h=x_bar_bar,col=\"green\")\n",
    "        abline(h=x_UCL,col=\"red\")\n",
    "        abline(h=x_LCL,col=\"red\")\n",
    "        \n",
    "        plot(sample,s,main=\"Carte s\",pch=19,type=\"o\",ylim=c(s_LCL,s_UCL))\n",
    "        abline(h=s_bar,col=\"green\")\n",
    "        abline(h=s_UCL,col=\"red\")\n",
    "        abline(h=s_LCL,col=\"red\")\n",
    "        \n",
    "        \n",
    "        \n",
    "        \n",
    "    }\n",
    "    else{\n",
    "        \n",
    "        par(mfrow=c(2,1))\n",
    "        plot(sample,x_bar,main=\"Carte X_bar\", pch = 19,type=\"o\")\n",
    "        abline(h=x_bar_bar,col=\"green\")\n",
    "        abline(h=x_UCL,col=\"red\")\n",
    "        abline(h=x_LCL,col=\"red\")\n",
    "        legend(par('usr')[1],par('usr')[4],c(\"x_bar\",\"center line\",\"bounds\"),\n",
    "               lty=1,xjust=0,lwd=2,col=c(\"black\",\"green\",\"red\"))\n",
    "            \n",
    "        plot(sample,s,main=\"Carte s\",pch=19,type=\"o\")\n",
    "        abline(h=s_bar,col=\"green\")\n",
    "        abline(h=s_UCL,col=\"red\")\n",
    "        abline(h=s_LCL,col=\"red\")\n",
    "        legend(par('usr')[1],par('usr')[4],c(\"s\",\"center line\",\"bounds\"),\n",
    "               lty=1,xjust=0,lwd=2,col=c(\"black\",\"green\",\"red\"))\n",
    "        \n",
    "    }\n",
    "\n",
    "    \n",
    "\n",
    "    \n",
    "}\n"
   ]
  },
  {
   "cell_type": "code",
   "execution_count": 99,
   "metadata": {},
   "outputs": [
    {
     "data": {
      "image/png": "[encoded data removed]",
      "text/plain": [
       "Plot with title \"Carte s\""
      ]
     },
     "metadata": {},
     "output_type": "display_data"
    }
   ],
   "source": [
    "#Construction de la carte X_bar et s pour toutes les colonnes (V7 à 106)\n",
    "carte_Xbar_s(data,colonne,y_lim=F)"
   ]
  },
  {
   "cell_type": "markdown",
   "metadata": {},
   "source": [
    "**Analyse et interpretation:** Aucun point n'est dans la bonne zone (tous les points sont déréglés) et cela s'explique par la forte variance entre les échantillons.Comme précédemment, j'ai décidé de spliter les colonnes en 3 sous-groupe et construire les cartes $\\bar{X}$ et $s$ pour chaque sous groupe."
   ]
  },
  {
   "cell_type": "code",
   "execution_count": 100,
   "metadata": {},
   "outputs": [
    {
     "data": {
      "image/png": "[encoded data removed]",
      "text/plain": [
       "Plot with title \"Carte s\""
      ]
     },
     "metadata": {},
     "output_type": "display_data"
    }
   ],
   "source": [
    "#Construction de la carte X_bar et s pour le 1er sous-groupe:colonnes V7 à V36\n",
    "carte_Xbar_s(data,colonne1,y_lim=T)"
   ]
  },
  {
   "cell_type": "markdown",
   "metadata": {},
   "source": [
    "**Analyse**: Pour ce sous-groupe,aucun point n'est en dehors des limites de contrôle pour les 2 cartes."
   ]
  },
  {
   "cell_type": "code",
   "execution_count": 101,
   "metadata": {},
   "outputs": [
    {
     "data": {
      "image/png": "[encoded data removed]",
      "text/plain": [
       "Plot with title \"Carte s\""
      ]
     },
     "metadata": {},
     "output_type": "display_data"
    }
   ],
   "source": [
    "#Construction des cartes X_bar et s pour le 2nd sous-groupe:V37 à 46\n",
    "carte_Xbar_s(data,colonne2,y_lim=T)"
   ]
  },
  {
   "cell_type": "markdown",
   "metadata": {},
   "source": [
    "**Analyse**: Pour ce sous-groupe, tous les points sont dans les limites de contrôle pour la carte $\\bar{X}$ tandis que la carte $s$ signale un déréglage au $4^{ème}$ échantillon."
   ]
  },
  {
   "cell_type": "code",
   "execution_count": 102,
   "metadata": {},
   "outputs": [
    {
     "data": {
      "image/png": "[encoded data removed]",
      "text/plain": [
       "Plot with title \"Carte s\""
      ]
     },
     "metadata": {},
     "output_type": "display_data"
    }
   ],
   "source": [
    "#Construction des cartes X_bar et s pour le 3ème sous-groupe:colonnes V47 à V106\n",
    "carte_Xbar_s(data,colonne3,y_lim=T)"
   ]
  },
  {
   "cell_type": "markdown",
   "metadata": {},
   "source": [
    "**Analyse**: Pour ce sous-groupe, aucun point n'est en dehors des limites de contrôle pour la carte $\\bar{X}$ tandis que la carte $s$ détecte un déréglage au $49^{ème}$ échantillon."
   ]
  },
  {
   "cell_type": "markdown",
   "metadata": {},
   "source": [
    "# 3-) Construction des cartes CUSUM et EWMA pour chaque colonne 107 et 108 pour détecter un changement par rapport à une moyenne égale à 2."
   ]
  },
  {
   "cell_type": "code",
   "execution_count": 103,
   "metadata": {},
   "outputs": [],
   "source": [
    "#Selection des colonnes 107 et 108\n",
    "V107=data$V107\n",
    "V108=data$V108"
   ]
  },
  {
   "cell_type": "markdown",
   "metadata": {},
   "source": [
    "# 3-1) CUSUM  \n",
    "Nous allons constuire pour chaque colonne une carte CUSUM classique et une carte CUSUM standardisée  \n",
    "**CUSUM classique:**  $C_{l}^{+}=max(0,x_{l}-(\\mu_{0}+K)+C_{l-1}^{+})$ ; $C_{l}^{-}=max(0,(\\mu_{0}-K)-x_{l}+C_{l-1}^{-})$ avec $C_{0}^{+}=C_{0}^{-}=0$ et $K=\\frac{\\delta \\sigma_{0}}{2}$  \n",
    "**CUSUM standardisée:**  $y_{l}=\\frac{x{l}-\\mu_0}{\\sigma}$ ; $C_{l}^{+}=max(0,y_{l}-k+C_{l-1}^{+})$ ;  $C_{l}^{-}=max(0,k-y_{l}+C_{l-1}^{-})$  \n",
    "$H=h\\sigma$ ; $K=k\\sigma$ avec $\\sigma$ l'écart-type de l'échantillon. Le choix de $h=4$ ou $h=5$ et $k=\\frac{1}{2}$ donne généralement une bonne propriété ARL à la carte CUSUM"
   ]
  },
  {
   "cell_type": "code",
   "execution_count": 110,
   "metadata": {},
   "outputs": [],
   "source": [
    "CUSUM<-function(data,h=5,k=1/2,mu_0=2){\n",
    "    \n",
    "K=k*sd(data)\n",
    "H=h*sd(data)\n",
    "mu=mu_0 \n",
    "Sample=1:length(data)\n",
    "x=data\n",
    "x_sd=(data-mu)/sd(data)\n",
    "x_plus=x-(mu+K)\n",
    "x_moins=(mu-K)-x\n",
    "cl_plus_sd=rep(0,length(data))\n",
    "cl_moins_sd=rep(0,length(data))\n",
    "cl_plus=rep(0,length(data))\n",
    "cl_moins=rep(0,length(data))\n",
    "cl_plus_sd[1]=max(0,x_sd[1]-k)\n",
    "cl_moins_sd[1]=max(0,-x_sd[1]-k)\n",
    "cl_plus[1]=max(0,data[1]-mu_0-K)\n",
    "cl_moins[1]=max(0,-data[1]+mu_0-K)\n",
    "for(l in 2:length(data)){\n",
    "    cl_plus[l]=max(0,x_plus[l]+cl_plus[l-1])\n",
    "    cl_moins[l]=max(0,x_moins[l]+cl_moins[l-1])\n",
    "    cl_plus_sd[l]=max(0,x_sd[l]-k+cl_plus_sd[l-1])\n",
    "    cl_moins_sd[l]=max(0,k-x_sd[l]+cl_moins_sd[l-1])\n",
    "    \n",
    "}\n",
    "par(mfrow=c(2,1))\n",
    "plot(Sample,cl_plus,main=\"Carte CUSUM classique\",type=\"o\", pch = 19,\n",
    "     col=\"blue\",ylim=c(min(cl_moins),max(cl_plus)))\n",
    "points(Sample,cl_moins,type=\"o\",col=\"green\")\n",
    "abline(h=H,col=\"red\")\n",
    "abline(h=-H,col=\"red\")\n",
    "legend(par('usr')[1],par('usr')[4],c(\"C+\",\"C-\",\"H\"),\n",
    "       lty=1,xjust=0,lwd=2,col=c(\"blue\",\"green\",\"red\"))\n",
    "\n",
    "    \n",
    "plot(Sample,cl_plus_sd,main=\"Carte CUSUM standardisée\",\n",
    "     type=\"o\", pch = 19,col=\"blue\",\n",
    "     ylim=c(min(cl_moins_sd),max(cl_plus_sd)))\n",
    "points(Sample,-cl_moins_sd,type=\"o\",col=\"green\")\n",
    "abline(h=h,col=\"red\")\n",
    "abline(h=-h,col=\"red\")\n",
    "legend(par('usr')[1],par('usr')[4],c(\"C+\",\"C-\",\"H\"),\n",
    "       lty=1,xjust=0,lwd=2,col=c(\"blue\",\"green\",\"red\"))\n",
    "\n",
    "    \n",
    "}"
   ]
  },
  {
   "cell_type": "code",
   "execution_count": 111,
   "metadata": {},
   "outputs": [
    {
     "data": {
      "image/png": "[encoded data removed]",
      "text/plain": [
       "Plot with title \"Carte CUSUM standardisée\""
      ]
     },
     "metadata": {},
     "output_type": "display_data"
    }
   ],
   "source": [
    "#CUSUM pour la colonne 107\n",
    "CUSUM(V107,h=5,k=1/2,mu_0=2)"
   ]
  },
  {
   "cell_type": "markdown",
   "metadata": {},
   "source": [
    "   **Ananlyse**: Pour toutes les deux cartes il y'a un déréclage à partir du $500^{ième}$ point."
   ]
  },
  {
   "cell_type": "code",
   "execution_count": 112,
   "metadata": {},
   "outputs": [
    {
     "data": {
      "image/png": "[encoded data removed]",
      "text/plain": [
       "Plot with title \"Carte CUSUM standardisée\""
      ]
     },
     "metadata": {},
     "output_type": "display_data"
    }
   ],
   "source": [
    "#CUSUM pour la colonne 108\n",
    "CUSUM(V108,h=5,k=1/2,mu_0=2)"
   ]
  },
  {
   "cell_type": "markdown",
   "metadata": {},
   "source": [
    "**Analyse**:Le déréclage apparaît à partir du $300^{ième points}$ pour toutes les 2 cartes."
   ]
  },
  {
   "cell_type": "markdown",
   "metadata": {},
   "source": [
    "# 3-2) EWMA  \n",
    "Statistique utilisée: $z_{i}=\\lambda x_{i}+(1-\\lambda)z_{i-1}$ avec $z_{0}=\\mu_{0}$  \n",
    "Les bornes de la carte:Ligne centrale $=\\mu_0$ ; $UCL=\\mu_{0}+L\\sigma \\sqrt{(\\frac{\\lambda}{2-\\lambda})(1-(1-\\lambda)^{2i})}$ ;  $LCL=\\mu_{0}-L\\sigma \\sqrt{(\\frac{\\lambda}{2-\\lambda})(1-(1-\\lambda)^{2i})}$"
   ]
  },
  {
   "cell_type": "code",
   "execution_count": 113,
   "metadata": {},
   "outputs": [],
   "source": [
    "EWMA<-function(data,lambda=0.1,L=3,mu_0,y_lim=F){\n",
    "    \n",
    "sigma=sd(data)\n",
    "z=rep(0,length(data))\n",
    "z[1]=mu_0\n",
    "x<-data\n",
    "Sample<-1:length(data)\n",
    "for(i in 2:length(data)){\n",
    "    \n",
    "    z[i]=lambda*x[i]+(1-lambda)*z[i-1]\n",
    "    #z[i]=(1-(1-lambda)^(i))*x[i]+(1-lambda)^(i)*z[1]\n",
    "}\n",
    "UCL=rep(0,length(data))\n",
    "LCL=rep(0,length(data))\n",
    "for (i in 1:length(data)){\n",
    "    UCL[i]=mu_0+L*sigma*sqrt((lambda/(2-lambda))*(1-(1-lambda)^(2*i)))\n",
    "    LCL[i]=mu_0-L*sigma*sqrt((lambda/(2-lambda))*(1-(1-lambda)^(2*i)))\n",
    "    \n",
    "}\n",
    "if(y_lim){\n",
    "    plot(Sample,z,main=\"Carte EWMA\", pch = 19,ylim=c(min(LCL),max(z)))\n",
    "    lines(Sample,z,col=\"blue\")\n",
    "    abline(h=mu_0,col=\"green\")\n",
    "    lines(Sample,UCL,col=\"red\")\n",
    "    lines(Sample,LCL,col=\"red\")\n",
    "    legend(par('usr')[1],par('usr')[4],c(\"z\",\"Center line\",\"UCL\",\"LCL\"),\n",
    "           lty=1,xjust=0,lwd=2,col=c(\"blue\",\"green\",\"red\",\"red\"))\n",
    "}\n",
    "else{\n",
    "    plot(Sample,z,main=\"Carte EWMA\", pch = 19)\n",
    "    plot(Sample,z,main=\"Carte EWMA\", pch = 19)\n",
    "    lines(Sample,z,col=\"blue\")\n",
    "    abline(h=mu_0,col=\"green\")\n",
    "    lines(Sample,UCL,col=\"red\")\n",
    "    lines(Sample,LCL,col=\"red\")\n",
    "    legend(par('usr')[1],par('usr')[4],c(\"z\",\"Center line\",\"UCL\",\"LCL\"),\n",
    "           lty=1,xjust=0,lwd=2,col=c(\"blue\",\"green\",\"red\",\"red\"))\n",
    "}\n",
    "\n",
    "\n",
    "}"
   ]
  },
  {
   "cell_type": "code",
   "execution_count": 114,
   "metadata": {},
   "outputs": [
    {
     "data": {
      "image/png": "[encoded data removed]",
      "text/plain": [
       "Plot with title \"Carte EWMA\""
      ]
     },
     "metadata": {},
     "output_type": "display_data"
    }
   ],
   "source": [
    "#EWMA colonne 107\n",
    "EWMA(V107,lambda=0.1,L=3,mu_0=2,y_lim=T)"
   ]
  },
  {
   "cell_type": "markdown",
   "metadata": {},
   "source": [
    "**Analyse**:Le déréglage se situe à partir du $500^{ième} point.$"
   ]
  },
  {
   "cell_type": "code",
   "execution_count": 115,
   "metadata": {},
   "outputs": [
    {
     "data": {
      "image/png": "[encoded data removed]",
      "text/plain": [
       "Plot with title \"Carte EWMA\""
      ]
     },
     "metadata": {},
     "output_type": "display_data"
    }
   ],
   "source": [
    "#EWMA colonne 108\n",
    "EWMA(V108,lambda=0.1,L=3,mu_0=2,y_lim=T)"
   ]
  },
  {
   "cell_type": "markdown",
   "metadata": {},
   "source": [
    "**Analyse**: il y'a un déréglage au $300^{ième}$ point."
   ]
  },
  {
   "cell_type": "markdown",
   "metadata": {},
   "source": [
    "**Conclusion carte CUSUM et EWMA**: On constate que ces deux types de carte détectent le déréglage au même instant.Ces deux cartes sont donc équivalentes au sens de l'éfficacité de détection."
   ]
  }
 ],
 "metadata": {
  "kernelspec": {
   "display_name": "R",
   "language": "R",
   "name": "ir"
  },
  "language_info": {
   "codemirror_mode": "r",
   "file_extension": ".r",
   "mimetype": "text/x-r-source",
   "name": "R",
   "pygments_lexer": "r",
   "version": "3.6.1"
  }
 },
 "nbformat": 4,
 "nbformat_minor": 2
}
